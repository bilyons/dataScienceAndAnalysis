{
 "cells": [
  {
   "cell_type": "markdown",
   "id": "64cdc987",
   "metadata": {},
   "source": [
    "# Introduction"
   ]
  },
  {
   "cell_type": "markdown",
   "id": "4f6e2d64",
   "metadata": {},
   "source": [
    "Despite having used these before for code snippets in Natural Computing for students, it seems appopriate to follow along with the bootcamp"
   ]
  },
  {
   "cell_type": "markdown",
   "id": "8ae248a2",
   "metadata": {},
   "source": [
    "## Useful keyboard shortcuts"
   ]
  },
  {
   "cell_type": "markdown",
   "id": "3d56ae8c",
   "metadata": {},
   "source": [
    "* Shift + Enter -> Run cell\n",
    "* Esc, M -> Convert to markdown\n",
    "* Esc, Y -> Convert to code cell\n",
    "* Esc, D, D -> Delete a cell, useful if you accidentally double Enter\n",
    "\n",
    "Escape key enters ``command mode`` and thus, after performing these actions, one must press Enter key again to reenter the cell"
   ]
  },
  {
   "cell_type": "markdown",
   "id": "a110b597",
   "metadata": {},
   "source": [
    "## Notes on course"
   ]
  },
  {
   "cell_type": "markdown",
   "id": "fc3e1d0b",
   "metadata": {},
   "source": [
    "At this stage the bootcamp is going through ``hello_world`` style examples such as print statements and storying variables. There is no value in you doing more at this stage as you have extensive experience programming in python for reinforcement learning."
   ]
  },
  {
   "cell_type": "markdown",
   "id": "769e3e58",
   "metadata": {},
   "source": [
    "Additionally it covered simple elements like importing a package and the fact that python begins counts at 0, these are similarly of no use, so at no point should you need to refer to this section again."
   ]
  },
  {
   "cell_type": "markdown",
   "id": "9a1349fe",
   "metadata": {},
   "source": [
    "## Anaconda prompts"
   ]
  },
  {
   "cell_type": "markdown",
   "id": "84cf9150",
   "metadata": {},
   "source": [
    "This section of the introduction focuses on using conda in the terminal. Whilst you have little experience with conda, the introduction was not good on the install section, so you looked up how to activate the conda environment etc."
   ]
  },
  {
   "cell_type": "markdown",
   "id": "6045db90",
   "metadata": {},
   "source": [
    "# Variables and types"
   ]
  },
  {
   "cell_type": "markdown",
   "id": "551b8cbc",
   "metadata": {},
   "source": [
    "This was all very basic, you skipped this section and saw no value in notes because you have extensive experience with Python, you skipped ahead to python data structures; however, this is likely to be skipped as well as you have extensive experience with lists, tuples, dictionaries and sets from PhD research and the DAISY project."
   ]
  },
  {
   "cell_type": "markdown",
   "id": "e8356bc8",
   "metadata": {},
   "source": [
    "# Python data structures"
   ]
  },
  {
   "cell_type": "markdown",
   "id": "95f3ecbd",
   "metadata": {},
   "source": [
    "As expected above"
   ]
  },
  {
   "cell_type": "markdown",
   "id": "1b489888",
   "metadata": {},
   "source": [
    "# Fundamentals of python"
   ]
  },
  {
   "cell_type": "markdown",
   "id": "b165acb0",
   "metadata": {},
   "source": [
    "Covers loops and conditional statements etc. Not very complicated stuff. The only thing that seems like it might be worth looking up a little is the Lambda keyword as you rarely use it personally and might improve your programming."
   ]
  },
  {
   "cell_type": "code",
   "execution_count": 2,
   "id": "226d42d5",
   "metadata": {},
   "outputs": [],
   "source": [
    "multiply = lambda x: x * 10"
   ]
  },
  {
   "cell_type": "code",
   "execution_count": 3,
   "id": "696afc17",
   "metadata": {},
   "outputs": [
    {
     "data": {
      "text/plain": [
       "20"
      ]
     },
     "execution_count": 3,
     "metadata": {},
     "output_type": "execute_result"
    }
   ],
   "source": [
    "multiply(2)"
   ]
  },
  {
   "cell_type": "markdown",
   "id": "4ca6600e",
   "metadata": {},
   "source": []
  }
 ],
 "metadata": {
  "kernelspec": {
   "display_name": "Python [conda env:root] *",
   "language": "python",
   "name": "conda-root-py"
  },
  "language_info": {
   "codemirror_mode": {
    "name": "ipython",
    "version": 3
   },
   "file_extension": ".py",
   "mimetype": "text/x-python",
   "name": "python",
   "nbconvert_exporter": "python",
   "pygments_lexer": "ipython3",
   "version": "3.9.13"
  }
 },
 "nbformat": 4,
 "nbformat_minor": 5
}
