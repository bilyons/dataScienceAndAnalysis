{
 "cells": [
  {
   "cell_type": "markdown",
   "id": "89883dc6",
   "metadata": {},
   "source": [
    "# Introduction"
   ]
  },
  {
   "cell_type": "markdown",
   "id": "f0c64d51",
   "metadata": {},
   "source": [
    "Despite having used these before for code snippets in Natural Computing for students, it seems appopriate to follow along with the bootcamp"
   ]
  },
  {
   "cell_type": "markdown",
   "id": "4eb279fb",
   "metadata": {},
   "source": [
    "## Useful keyboard shortcuts"
   ]
  },
  {
   "cell_type": "markdown",
   "id": "7d77ccd8",
   "metadata": {},
   "source": [
    "* Shift + Enter -> Run cell\n",
    "* Esc, M -> Convert to markdown\n",
    "* Esc, Y -> Convert to code cell\n",
    "* Esc, D, D -> Delete a cell, useful if you accidentally double Enter\n",
    "\n",
    "Escape key enters ``command mode`` and thus, after performing these actions, one must press Enter key again to reenter the cell"
   ]
  },
  {
   "cell_type": "markdown",
   "id": "0770dff3",
   "metadata": {},
   "source": [
    "## Notes on course"
   ]
  },
  {
   "cell_type": "markdown",
   "id": "49a36a76",
   "metadata": {},
   "source": [
    "At this stage the bootcamp is going through ``hello_world`` style examples such as print statements and storying variables. There is no value in you doing more at this stage as you have extensive experience programming in python for reinforcement learning."
   ]
  },
  {
   "cell_type": "markdown",
   "id": "b4cb9395",
   "metadata": {},
   "source": [
    "Additionally it covered simple elements like importing a package and the fact that python begins counts at 0, these are similarly of no use, so at no point should you need to refer to this section again."
   ]
  },
  {
   "cell_type": "markdown",
   "id": "7ebf7c8b",
   "metadata": {},
   "source": [
    "## Anaconda prompts"
   ]
  },
  {
   "cell_type": "markdown",
   "id": "2ce4e480",
   "metadata": {},
   "source": [
    "This section of the introduction focuses on using conda in the terminal. Whilst you have little experience with conda, the introduction was not good on the install section, so you looked up how to activate the conda environment etc."
   ]
  },
  {
   "cell_type": "markdown",
   "id": "92dfb6b1",
   "metadata": {},
   "source": [
    "# Variables and types"
   ]
  },
  {
   "cell_type": "markdown",
   "id": "b2e6dadd",
   "metadata": {},
   "source": [
    "This was all very basic, you skipped this section and saw no value in notes because you have extensive experience with Python, you skipped ahead to python data structures; however, this is likely to be skipped as well as you have extensive experience with lists, tuples, dictionaries and sets from PhD research and the DAISY project."
   ]
  },
  {
   "cell_type": "markdown",
   "id": "6a44ddb5",
   "metadata": {},
   "source": [
    "# Python data structures"
   ]
  },
  {
   "cell_type": "markdown",
   "id": "ddac966e",
   "metadata": {},
   "source": [
    "As expected above"
   ]
  },
  {
   "cell_type": "markdown",
   "id": "a75c2fd9",
   "metadata": {},
   "source": [
    "# Fundamentals of python"
   ]
  },
  {
   "cell_type": "markdown",
   "id": "4690a844",
   "metadata": {},
   "source": [
    "Covers loops and conditional statements etc. Not very complicated stuff. The only thing that seems like it might be worth looking up a little is the Lambda keyword as you rarely use it personally and might improve your programming."
   ]
  },
  {
   "cell_type": "code",
   "execution_count": 2,
   "id": "bd87c9a2",
   "metadata": {},
   "outputs": [],
   "source": [
    "multiply = lambda x: x * 10"
   ]
  },
  {
   "cell_type": "code",
   "execution_count": 3,
   "id": "69770653",
   "metadata": {},
   "outputs": [
    {
     "data": {
      "text/plain": [
       "20"
      ]
     },
     "execution_count": 3,
     "metadata": {},
     "output_type": "execute_result"
    }
   ],
   "source": [
    "multiply(2)"
   ]
  },
  {
   "cell_type": "markdown",
   "id": "4f232c80",
   "metadata": {},
   "source": [
    "As can be seen above, and makes sense from observation previously, lambda function is essentially a move toward more functional programming in python, where one can make easy, short functions, and call those functions in other more complicated functions."
   ]
  },
  {
   "cell_type": "markdown",
   "id": "37ea00a7",
   "metadata": {},
   "source": [
    "Whilst this is useful for short programs, anything where you work with others it is likely best to avoid it so that one can provide greater clarity in documentation."
   ]
  },
  {
   "cell_type": "markdown",
   "id": "b55c1ac4",
   "metadata": {},
   "source": [
    "# OOP"
   ]
  },
  {
   "cell_type": "markdown",
   "id": "73ab8f29",
   "metadata": {},
   "source": [
    "This section is entirely about object oriented programming with user defined classes. You have extensive experience with this so we have avoided this section entirely."
   ]
  },
  {
   "cell_type": "markdown",
   "id": "c84be14f",
   "metadata": {},
   "source": [
    "# Advanced concepts  "
   ]
  },
  {
   "cell_type": "markdown",
   "id": "a8d5c95b",
   "metadata": {},
   "source": [
    "This section is slightly more interesting; however, you again have experience with random, mathematics and error/exceptions in python programming."
   ]
  },
  {
   "cell_type": "markdown",
   "id": "38d1bfbb",
   "metadata": {},
   "source": [
    "# Python data handling"
   ]
  },
  {
   "cell_type": "markdown",
   "id": "d4ccf351",
   "metadata": {},
   "source": [
    "Whilst you have some experience with this, it seems prudent to have a little refresher always."
   ]
  },
  {
   "cell_type": "markdown",
   "id": "86fefd51",
   "metadata": {},
   "source": [
    "## io Module"
   ]
  },
  {
   "cell_type": "code",
   "execution_count": 42,
   "id": "c089ab4e",
   "metadata": {},
   "outputs": [],
   "source": [
    "import io"
   ]
  },
  {
   "cell_type": "code",
   "execution_count": 43,
   "id": "fc215f8d",
   "metadata": {},
   "outputs": [],
   "source": [
    "text = \"String to test\""
   ]
  },
  {
   "cell_type": "code",
   "execution_count": 44,
   "id": "496bc698",
   "metadata": {},
   "outputs": [],
   "source": [
    "file = io.StringIO(text)"
   ]
  },
  {
   "cell_type": "code",
   "execution_count": 45,
   "id": "10e57de0",
   "metadata": {},
   "outputs": [
    {
     "data": {
      "text/plain": [
       "'String to test'"
      ]
     },
     "execution_count": 45,
     "metadata": {},
     "output_type": "execute_result"
    }
   ],
   "source": [
    "file.read()"
   ]
  },
  {
   "cell_type": "code",
   "execution_count": 46,
   "id": "50860123",
   "metadata": {},
   "outputs": [
    {
     "data": {
      "text/plain": [
       "30"
      ]
     },
     "execution_count": 46,
     "metadata": {},
     "output_type": "execute_result"
    }
   ],
   "source": [
    "file.write(\". But here is some extra stuff\")"
   ]
  },
  {
   "cell_type": "code",
   "execution_count": 49,
   "id": "b07431ec",
   "metadata": {},
   "outputs": [
    {
     "data": {
      "text/plain": [
       "0"
      ]
     },
     "execution_count": 49,
     "metadata": {},
     "output_type": "execute_result"
    }
   ],
   "source": [
    "file.seek(0) #When using string IO you have to reset the cursor to read."
   ]
  },
  {
   "cell_type": "code",
   "execution_count": 50,
   "id": "5c02cb37",
   "metadata": {},
   "outputs": [
    {
     "data": {
      "text/plain": [
       "'String to test. But here is some extra stuff'"
      ]
     },
     "execution_count": 50,
     "metadata": {},
     "output_type": "execute_result"
    }
   ],
   "source": [
    "file.read()"
   ]
  },
  {
   "cell_type": "markdown",
   "id": "d9528211",
   "metadata": {},
   "source": [
    "## os Module"
   ]
  },
  {
   "cell_type": "markdown",
   "id": "6b711d2f",
   "metadata": {},
   "source": [
    "You've used this a lot before for accessing, reading, and writing output files in reinforcement learning."
   ]
  },
  {
   "cell_type": "markdown",
   "id": "29d22166",
   "metadata": {},
   "source": [
    "The rest was all equally simple. Skipped."
   ]
  },
  {
   "cell_type": "markdown",
   "id": "8ba3d1f1",
   "metadata": {},
   "source": [
    "# Numpy"
   ]
  },
  {
   "cell_type": "markdown",
   "id": "0175bcbb",
   "metadata": {},
   "source": [
    "Course goes on to give many videos on Numpy, you have extensive experience with this so you skipped to the data analysis information with pandas. This marks the end of this notebook as you started a new one for these exercises."
   ]
  },
  {
   "cell_type": "code",
   "execution_count": null,
   "id": "388b5d9b",
   "metadata": {},
   "outputs": [],
   "source": []
  }
 ],
 "metadata": {
  "kernelspec": {
   "display_name": "Python [conda env:root] *",
   "language": "python",
   "name": "conda-root-py"
  },
  "language_info": {
   "codemirror_mode": {
    "name": "ipython",
    "version": 3
   },
   "file_extension": ".py",
   "mimetype": "text/x-python",
   "name": "python",
   "nbconvert_exporter": "python",
   "pygments_lexer": "ipython3",
   "version": "3.9.13"
  }
 },
 "nbformat": 4,
 "nbformat_minor": 5
}
