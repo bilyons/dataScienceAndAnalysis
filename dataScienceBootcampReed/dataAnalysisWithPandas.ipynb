{
 "cells": [
  {
   "cell_type": "markdown",
   "id": "1d9ff9c1",
   "metadata": {},
   "source": [
    "# Pandas"
   ]
  },
  {
   "cell_type": "markdown",
   "id": "cf46ad2d",
   "metadata": {},
   "source": [
    "You have some experience with pandas, but we will perform all of this to refresh ourselves on data frames etc."
   ]
  },
  {
   "cell_type": "code",
   "execution_count": 1,
   "id": "cc0aed0c",
   "metadata": {},
   "outputs": [],
   "source": [
    "import pandas as pd"
   ]
  },
  {
   "cell_type": "markdown",
   "id": "53bfbbbb",
   "metadata": {},
   "source": [
    "## Series"
   ]
  },
  {
   "cell_type": "markdown",
   "id": "3c01967f",
   "metadata": {},
   "source": [
    "Creating a series with the pandas built in function."
   ]
  },
  {
   "cell_type": "code",
   "execution_count": 2,
   "id": "701705e8",
   "metadata": {},
   "outputs": [],
   "source": [
    "new_series = pd.Series([10,20,30,40])"
   ]
  },
  {
   "cell_type": "code",
   "execution_count": 3,
   "id": "76d219d7",
   "metadata": {},
   "outputs": [
    {
     "data": {
      "text/plain": [
       "0    10\n",
       "1    20\n",
       "2    30\n",
       "3    40\n",
       "dtype: int64"
      ]
     },
     "execution_count": 3,
     "metadata": {},
     "output_type": "execute_result"
    }
   ],
   "source": [
    "new_series"
   ]
  },
  {
   "cell_type": "markdown",
   "id": "f5f2b8f9",
   "metadata": {},
   "source": [
    "Series is a 1D array with axis labels, and we can use a variety of operations on these, much the same as a Numpy array. You can also have labels that are both integers or strings, example shown below for constructing a series from a dictionary."
   ]
  },
  {
   "cell_type": "code",
   "execution_count": 4,
   "id": "d49891f0",
   "metadata": {},
   "outputs": [
    {
     "data": {
      "text/plain": [
       "a    1\n",
       "b    2\n",
       "c    3\n",
       "dtype: int64"
      ]
     },
     "execution_count": 4,
     "metadata": {},
     "output_type": "execute_result"
    }
   ],
   "source": [
    "d = {'a': 1, 'b': 2, 'c': 3}\n",
    "ser = pd.Series(data=d, index=['a', 'b', 'c'])\n",
    "ser"
   ]
  },
  {
   "cell_type": "markdown",
   "id": "03e1ec24",
   "metadata": {},
   "source": [
    "## Dataframes"
   ]
  },
  {
   "cell_type": "markdown",
   "id": "41f21e9f",
   "metadata": {},
   "source": [
    "Data frames are 2D tabular arrays, with labeled rows and columns. It is essentially a dictionary style extension of the series structures above."
   ]
  },
  {
   "cell_type": "code",
   "execution_count": 8,
   "id": "c856a131",
   "metadata": {},
   "outputs": [],
   "source": [
    "colours = [\"red\", \"yellow\", \"green\", \"blue\"]\n",
    "degrees = [30, 60, 90, 120]\n",
    "other = [\"w\", \"x\", \"y\", \"z\"]\n",
    "\n",
    "new_df = pd.DataFrame({\"colours\": colours, \"degrees\": degrees, \"other\": other},\n",
    "                     columns = [\"colours\", \"degrees\", \"other\"],\n",
    "                     index = range(1,5))"
   ]
  },
  {
   "cell_type": "code",
   "execution_count": 9,
   "id": "9031bc72",
   "metadata": {},
   "outputs": [
    {
     "data": {
      "text/html": [
       "<div>\n",
       "<style scoped>\n",
       "    .dataframe tbody tr th:only-of-type {\n",
       "        vertical-align: middle;\n",
       "    }\n",
       "\n",
       "    .dataframe tbody tr th {\n",
       "        vertical-align: top;\n",
       "    }\n",
       "\n",
       "    .dataframe thead th {\n",
       "        text-align: right;\n",
       "    }\n",
       "</style>\n",
       "<table border=\"1\" class=\"dataframe\">\n",
       "  <thead>\n",
       "    <tr style=\"text-align: right;\">\n",
       "      <th></th>\n",
       "      <th>colours</th>\n",
       "      <th>degrees</th>\n",
       "      <th>other</th>\n",
       "    </tr>\n",
       "  </thead>\n",
       "  <tbody>\n",
       "    <tr>\n",
       "      <th>1</th>\n",
       "      <td>red</td>\n",
       "      <td>30</td>\n",
       "      <td>w</td>\n",
       "    </tr>\n",
       "    <tr>\n",
       "      <th>2</th>\n",
       "      <td>yellow</td>\n",
       "      <td>60</td>\n",
       "      <td>x</td>\n",
       "    </tr>\n",
       "    <tr>\n",
       "      <th>3</th>\n",
       "      <td>green</td>\n",
       "      <td>90</td>\n",
       "      <td>y</td>\n",
       "    </tr>\n",
       "    <tr>\n",
       "      <th>4</th>\n",
       "      <td>blue</td>\n",
       "      <td>120</td>\n",
       "      <td>z</td>\n",
       "    </tr>\n",
       "  </tbody>\n",
       "</table>\n",
       "</div>"
      ],
      "text/plain": [
       "  colours  degrees other\n",
       "1     red       30     w\n",
       "2  yellow       60     x\n",
       "3   green       90     y\n",
       "4    blue      120     z"
      ]
     },
     "execution_count": 9,
     "metadata": {},
     "output_type": "execute_result"
    }
   ],
   "source": [
    "new_df"
   ]
  },
  {
   "cell_type": "markdown",
   "id": "af455bf9",
   "metadata": {},
   "source": [
    "This is a toy example. We will now read in a .csv file from the directory. Compiled a small book list for this example."
   ]
  },
  {
   "cell_type": "code",
   "execution_count": 22,
   "id": "8a3c9f6d",
   "metadata": {},
   "outputs": [],
   "source": [
    "df_books = pd.read_csv(\"books.csv\", low_memory = False)"
   ]
  },
  {
   "cell_type": "code",
   "execution_count": 23,
   "id": "e2b7723b",
   "metadata": {},
   "outputs": [
    {
     "data": {
      "text/html": [
       "<div>\n",
       "<style scoped>\n",
       "    .dataframe tbody tr th:only-of-type {\n",
       "        vertical-align: middle;\n",
       "    }\n",
       "\n",
       "    .dataframe tbody tr th {\n",
       "        vertical-align: top;\n",
       "    }\n",
       "\n",
       "    .dataframe thead th {\n",
       "        text-align: right;\n",
       "    }\n",
       "</style>\n",
       "<table border=\"1\" class=\"dataframe\">\n",
       "  <thead>\n",
       "    <tr style=\"text-align: right;\">\n",
       "      <th></th>\n",
       "      <th>ID</th>\n",
       "      <th>Title</th>\n",
       "      <th>Author</th>\n",
       "      <th>Year</th>\n",
       "      <th>Price</th>\n",
       "    </tr>\n",
       "  </thead>\n",
       "  <tbody>\n",
       "    <tr>\n",
       "      <th>0</th>\n",
       "      <td>1</td>\n",
       "      <td>\"Speed. Aggression. Surprise.\"</td>\n",
       "      <td>\"Tom Petch\"</td>\n",
       "      <td>2022</td>\n",
       "      <td>15.99</td>\n",
       "    </tr>\n",
       "    <tr>\n",
       "      <th>1</th>\n",
       "      <td>2</td>\n",
       "      <td>\"The Final Empire\"</td>\n",
       "      <td>\"Brandon Sanderson\"</td>\n",
       "      <td>2006</td>\n",
       "      <td>9.99</td>\n",
       "    </tr>\n",
       "    <tr>\n",
       "      <th>2</th>\n",
       "      <td>3</td>\n",
       "      <td>\"The Lord of the Rings\"</td>\n",
       "      <td>\"J. R. R. Tolkien\"</td>\n",
       "      <td>1954</td>\n",
       "      <td>17.00</td>\n",
       "    </tr>\n",
       "    <tr>\n",
       "      <th>3</th>\n",
       "      <td>4</td>\n",
       "      <td>\"The Rats in the Walls\"</td>\n",
       "      <td>\"H. P. Lovecraft\"</td>\n",
       "      <td>1923</td>\n",
       "      <td>4.99</td>\n",
       "    </tr>\n",
       "    <tr>\n",
       "      <th>4</th>\n",
       "      <td>5</td>\n",
       "      <td>\"The Devil and the Dark Water\"</td>\n",
       "      <td>\"Stuart Turton\"</td>\n",
       "      <td>2020</td>\n",
       "      <td>8.27</td>\n",
       "    </tr>\n",
       "  </tbody>\n",
       "</table>\n",
       "</div>"
      ],
      "text/plain": [
       "   ID                            Title                Author  Year  Price\n",
       "0   1   \"Speed. Aggression. Surprise.\"           \"Tom Petch\"  2022  15.99\n",
       "1   2               \"The Final Empire\"   \"Brandon Sanderson\"  2006   9.99\n",
       "2   3          \"The Lord of the Rings\"    \"J. R. R. Tolkien\"  1954  17.00\n",
       "3   4          \"The Rats in the Walls\"     \"H. P. Lovecraft\"  1923   4.99\n",
       "4   5   \"The Devil and the Dark Water\"       \"Stuart Turton\"  2020   8.27"
      ]
     },
     "execution_count": 23,
     "metadata": {},
     "output_type": "execute_result"
    }
   ],
   "source": [
    "df_books"
   ]
  },
  {
   "cell_type": "markdown",
   "id": "341a4f0e",
   "metadata": {},
   "source": [
    "To get the first N of a collection, we use the .head(N) function."
   ]
  },
  {
   "cell_type": "code",
   "execution_count": 24,
   "id": "719c6b5d",
   "metadata": {},
   "outputs": [
    {
     "data": {
      "text/html": [
       "<div>\n",
       "<style scoped>\n",
       "    .dataframe tbody tr th:only-of-type {\n",
       "        vertical-align: middle;\n",
       "    }\n",
       "\n",
       "    .dataframe tbody tr th {\n",
       "        vertical-align: top;\n",
       "    }\n",
       "\n",
       "    .dataframe thead th {\n",
       "        text-align: right;\n",
       "    }\n",
       "</style>\n",
       "<table border=\"1\" class=\"dataframe\">\n",
       "  <thead>\n",
       "    <tr style=\"text-align: right;\">\n",
       "      <th></th>\n",
       "      <th>ID</th>\n",
       "      <th>Title</th>\n",
       "      <th>Author</th>\n",
       "      <th>Year</th>\n",
       "      <th>Price</th>\n",
       "    </tr>\n",
       "  </thead>\n",
       "  <tbody>\n",
       "    <tr>\n",
       "      <th>0</th>\n",
       "      <td>1</td>\n",
       "      <td>\"Speed. Aggression. Surprise.\"</td>\n",
       "      <td>\"Tom Petch\"</td>\n",
       "      <td>2022</td>\n",
       "      <td>15.99</td>\n",
       "    </tr>\n",
       "    <tr>\n",
       "      <th>1</th>\n",
       "      <td>2</td>\n",
       "      <td>\"The Final Empire\"</td>\n",
       "      <td>\"Brandon Sanderson\"</td>\n",
       "      <td>2006</td>\n",
       "      <td>9.99</td>\n",
       "    </tr>\n",
       "    <tr>\n",
       "      <th>2</th>\n",
       "      <td>3</td>\n",
       "      <td>\"The Lord of the Rings\"</td>\n",
       "      <td>\"J. R. R. Tolkien\"</td>\n",
       "      <td>1954</td>\n",
       "      <td>17.00</td>\n",
       "    </tr>\n",
       "  </tbody>\n",
       "</table>\n",
       "</div>"
      ],
      "text/plain": [
       "   ID                            Title                Author  Year  Price\n",
       "0   1   \"Speed. Aggression. Surprise.\"           \"Tom Petch\"  2022  15.99\n",
       "1   2               \"The Final Empire\"   \"Brandon Sanderson\"  2006   9.99\n",
       "2   3          \"The Lord of the Rings\"    \"J. R. R. Tolkien\"  1954  17.00"
      ]
     },
     "execution_count": 24,
     "metadata": {},
     "output_type": "execute_result"
    }
   ],
   "source": [
    "df_books.head(3)"
   ]
  },
  {
   "cell_type": "markdown",
   "id": "ecc730dc",
   "metadata": {},
   "source": [
    "You can also read in via html, the example here is with the Academy Awards on wikipedia."
   ]
  },
  {
   "cell_type": "code",
   "execution_count": 25,
   "id": "700b12d4",
   "metadata": {},
   "outputs": [],
   "source": [
    "academy_url = \"https://en.wikipedia.org/wiki/Academy_Awards\""
   ]
  },
  {
   "cell_type": "code",
   "execution_count": 26,
   "id": "891e4a84",
   "metadata": {},
   "outputs": [],
   "source": [
    "df_academy = pd.read_html(academy_url, header=0, index_col=0)[3]"
   ]
  },
  {
   "cell_type": "code",
   "execution_count": 27,
   "id": "d664df7d",
   "metadata": {},
   "outputs": [
    {
     "data": {
      "text/html": [
       "<div>\n",
       "<style scoped>\n",
       "    .dataframe tbody tr th:only-of-type {\n",
       "        vertical-align: middle;\n",
       "    }\n",
       "\n",
       "    .dataframe tbody tr th {\n",
       "        vertical-align: top;\n",
       "    }\n",
       "\n",
       "    .dataframe thead th {\n",
       "        text-align: right;\n",
       "    }\n",
       "</style>\n",
       "<table border=\"1\" class=\"dataframe\">\n",
       "  <thead>\n",
       "    <tr style=\"text-align: right;\">\n",
       "      <th></th>\n",
       "      <th>Unnamed: 1</th>\n",
       "      <th>Unnamed: 2</th>\n",
       "    </tr>\n",
       "  </thead>\n",
       "  <tbody>\n",
       "    <tr>\n",
       "      <th>Award</th>\n",
       "      <td>Best Actor</td>\n",
       "      <td>Best Actress</td>\n",
       "    </tr>\n",
       "    <tr>\n",
       "      <th>Winner</th>\n",
       "      <td>Will Smith(King Richard)</td>\n",
       "      <td>Jessica Chastain(The Eyes of Tammy Faye)</td>\n",
       "    </tr>\n",
       "    <tr>\n",
       "      <th>NaN</th>\n",
       "      <td>NaN</td>\n",
       "      <td>NaN</td>\n",
       "    </tr>\n",
       "    <tr>\n",
       "      <th>Award</th>\n",
       "      <td>Best Supporting Actor</td>\n",
       "      <td>Best Supporting Actress</td>\n",
       "    </tr>\n",
       "    <tr>\n",
       "      <th>Winner</th>\n",
       "      <td>Troy Kotsur(CODA)</td>\n",
       "      <td>Ariana DeBose(West Side Story)</td>\n",
       "    </tr>\n",
       "  </tbody>\n",
       "</table>\n",
       "</div>"
      ],
      "text/plain": [
       "                      Unnamed: 1                                Unnamed: 2\n",
       "Award                 Best Actor                              Best Actress\n",
       "Winner  Will Smith(King Richard)  Jessica Chastain(The Eyes of Tammy Faye)\n",
       "NaN                          NaN                                       NaN\n",
       "Award      Best Supporting Actor                   Best Supporting Actress\n",
       "Winner         Troy Kotsur(CODA)            Ariana DeBose(West Side Story)"
      ]
     },
     "execution_count": 27,
     "metadata": {},
     "output_type": "execute_result"
    }
   ],
   "source": [
    "df_academy.head(5)"
   ]
  },
  {
   "cell_type": "markdown",
   "id": "16fdc3ad",
   "metadata": {},
   "source": [
    "## Basic descriptive functions"
   ]
  },
  {
   "cell_type": "markdown",
   "id": "e6dcf182",
   "metadata": {},
   "source": [
    "You can also access basic descriptive information very simply."
   ]
  },
  {
   "cell_type": "code",
   "execution_count": 28,
   "id": "19322012",
   "metadata": {},
   "outputs": [
    {
     "data": {
      "text/plain": [
       "(5, 5)"
      ]
     },
     "execution_count": 28,
     "metadata": {},
     "output_type": "execute_result"
    }
   ],
   "source": [
    "df_books.shape # This gives us a tuple of the shape of the dataframe"
   ]
  },
  {
   "cell_type": "code",
   "execution_count": 29,
   "id": "45214904",
   "metadata": {},
   "outputs": [
    {
     "name": "stdout",
     "output_type": "stream",
     "text": [
      "<class 'pandas.core.frame.DataFrame'>\n",
      "RangeIndex: 5 entries, 0 to 4\n",
      "Data columns (total 5 columns):\n",
      " #   Column  Non-Null Count  Dtype  \n",
      "---  ------  --------------  -----  \n",
      " 0   ID      5 non-null      int64  \n",
      " 1   Title   5 non-null      object \n",
      " 2   Author  5 non-null      object \n",
      " 3   Year    5 non-null      int64  \n",
      " 4   Price   5 non-null      float64\n",
      "dtypes: float64(1), int64(2), object(2)\n",
      "memory usage: 328.0+ bytes\n"
     ]
    }
   ],
   "source": [
    "df_books.info() # Gives us information on datatypes and memory usage of the dataframe"
   ]
  },
  {
   "cell_type": "code",
   "execution_count": 30,
   "id": "74bb0708",
   "metadata": {},
   "outputs": [
    {
     "data": {
      "text/html": [
       "<div>\n",
       "<style scoped>\n",
       "    .dataframe tbody tr th:only-of-type {\n",
       "        vertical-align: middle;\n",
       "    }\n",
       "\n",
       "    .dataframe tbody tr th {\n",
       "        vertical-align: top;\n",
       "    }\n",
       "\n",
       "    .dataframe thead th {\n",
       "        text-align: right;\n",
       "    }\n",
       "</style>\n",
       "<table border=\"1\" class=\"dataframe\">\n",
       "  <thead>\n",
       "    <tr style=\"text-align: right;\">\n",
       "      <th></th>\n",
       "      <th>ID</th>\n",
       "      <th>Year</th>\n",
       "      <th>Price</th>\n",
       "    </tr>\n",
       "  </thead>\n",
       "  <tbody>\n",
       "    <tr>\n",
       "      <th>count</th>\n",
       "      <td>5.000000</td>\n",
       "      <td>5.000000</td>\n",
       "      <td>5.000000</td>\n",
       "    </tr>\n",
       "    <tr>\n",
       "      <th>mean</th>\n",
       "      <td>3.000000</td>\n",
       "      <td>1985.000000</td>\n",
       "      <td>11.248000</td>\n",
       "    </tr>\n",
       "    <tr>\n",
       "      <th>std</th>\n",
       "      <td>1.581139</td>\n",
       "      <td>44.271887</td>\n",
       "      <td>5.128004</td>\n",
       "    </tr>\n",
       "    <tr>\n",
       "      <th>min</th>\n",
       "      <td>1.000000</td>\n",
       "      <td>1923.000000</td>\n",
       "      <td>4.990000</td>\n",
       "    </tr>\n",
       "    <tr>\n",
       "      <th>25%</th>\n",
       "      <td>2.000000</td>\n",
       "      <td>1954.000000</td>\n",
       "      <td>8.270000</td>\n",
       "    </tr>\n",
       "    <tr>\n",
       "      <th>50%</th>\n",
       "      <td>3.000000</td>\n",
       "      <td>2006.000000</td>\n",
       "      <td>9.990000</td>\n",
       "    </tr>\n",
       "    <tr>\n",
       "      <th>75%</th>\n",
       "      <td>4.000000</td>\n",
       "      <td>2020.000000</td>\n",
       "      <td>15.990000</td>\n",
       "    </tr>\n",
       "    <tr>\n",
       "      <th>max</th>\n",
       "      <td>5.000000</td>\n",
       "      <td>2022.000000</td>\n",
       "      <td>17.000000</td>\n",
       "    </tr>\n",
       "  </tbody>\n",
       "</table>\n",
       "</div>"
      ],
      "text/plain": [
       "             ID         Year      Price\n",
       "count  5.000000     5.000000   5.000000\n",
       "mean   3.000000  1985.000000  11.248000\n",
       "std    1.581139    44.271887   5.128004\n",
       "min    1.000000  1923.000000   4.990000\n",
       "25%    2.000000  1954.000000   8.270000\n",
       "50%    3.000000  2006.000000   9.990000\n",
       "75%    4.000000  2020.000000  15.990000\n",
       "max    5.000000  2022.000000  17.000000"
      ]
     },
     "execution_count": 30,
     "metadata": {},
     "output_type": "execute_result"
    }
   ],
   "source": [
    "df_books.describe() # Provides quick descriptive statistics one might need across columns"
   ]
  },
  {
   "cell_type": "code",
   "execution_count": 31,
   "id": "7d3b7292",
   "metadata": {},
   "outputs": [
    {
     "data": {
      "text/plain": [
       "Title     \"The Lord of the Rings\"\n",
       "Price                        17.0\n",
       "Name: 2, dtype: object"
      ]
     },
     "execution_count": 31,
     "metadata": {},
     "output_type": "execute_result"
    }
   ],
   "source": [
    "df_books.loc[df_books[\"Price\"].argmax()][[\"Title\", \"Price\"]] # Getting location \"loc\", of argmax"
   ]
  },
  {
   "cell_type": "markdown",
   "id": "e0334d5b",
   "metadata": {},
   "source": [
    "You can also do all of the above reading excel files."
   ]
  },
  {
   "cell_type": "markdown",
   "id": "6e9f700a",
   "metadata": {},
   "source": [
    "## Ending notes"
   ]
  },
  {
   "cell_type": "markdown",
   "id": "dba52928",
   "metadata": {},
   "source": [
    "A semi useful refresher, but unsure how Reed think this is particularly useful for data analysis/data science. The remainder of this course is really basic visualisation of line graphs and histograms in Matplotlib and Seaborn? I use the best exercise below to demonstrate, but ultimately most of this course could be a single jupyter notebook with a few comments rather than a 6 hour course."
   ]
  },
  {
   "cell_type": "code",
   "execution_count": 32,
   "id": "3e089bc7",
   "metadata": {},
   "outputs": [],
   "source": [
    "import numpy as np\n",
    "import seaborn as sns\n",
    "import pandas as pd\n",
    "import matplotlib.pyplot as plt"
   ]
  },
  {
   "cell_type": "code",
   "execution_count": 35,
   "id": "f5d1fdf4",
   "metadata": {},
   "outputs": [],
   "source": [
    "%matplotlib inline\n",
    "sns.set()"
   ]
  },
  {
   "cell_type": "code",
   "execution_count": 36,
   "id": "f07971e4",
   "metadata": {},
   "outputs": [],
   "source": [
    "df_iris = sns.load_dataset(\"iris\")"
   ]
  },
  {
   "cell_type": "code",
   "execution_count": 37,
   "id": "bd890328",
   "metadata": {},
   "outputs": [
    {
     "data": {
      "text/html": [
       "<div>\n",
       "<style scoped>\n",
       "    .dataframe tbody tr th:only-of-type {\n",
       "        vertical-align: middle;\n",
       "    }\n",
       "\n",
       "    .dataframe tbody tr th {\n",
       "        vertical-align: top;\n",
       "    }\n",
       "\n",
       "    .dataframe thead th {\n",
       "        text-align: right;\n",
       "    }\n",
       "</style>\n",
       "<table border=\"1\" class=\"dataframe\">\n",
       "  <thead>\n",
       "    <tr style=\"text-align: right;\">\n",
       "      <th></th>\n",
       "      <th>sepal_length</th>\n",
       "      <th>sepal_width</th>\n",
       "      <th>petal_length</th>\n",
       "      <th>petal_width</th>\n",
       "      <th>species</th>\n",
       "    </tr>\n",
       "  </thead>\n",
       "  <tbody>\n",
       "    <tr>\n",
       "      <th>0</th>\n",
       "      <td>5.1</td>\n",
       "      <td>3.5</td>\n",
       "      <td>1.4</td>\n",
       "      <td>0.2</td>\n",
       "      <td>setosa</td>\n",
       "    </tr>\n",
       "    <tr>\n",
       "      <th>1</th>\n",
       "      <td>4.9</td>\n",
       "      <td>3.0</td>\n",
       "      <td>1.4</td>\n",
       "      <td>0.2</td>\n",
       "      <td>setosa</td>\n",
       "    </tr>\n",
       "    <tr>\n",
       "      <th>2</th>\n",
       "      <td>4.7</td>\n",
       "      <td>3.2</td>\n",
       "      <td>1.3</td>\n",
       "      <td>0.2</td>\n",
       "      <td>setosa</td>\n",
       "    </tr>\n",
       "    <tr>\n",
       "      <th>3</th>\n",
       "      <td>4.6</td>\n",
       "      <td>3.1</td>\n",
       "      <td>1.5</td>\n",
       "      <td>0.2</td>\n",
       "      <td>setosa</td>\n",
       "    </tr>\n",
       "    <tr>\n",
       "      <th>4</th>\n",
       "      <td>5.0</td>\n",
       "      <td>3.6</td>\n",
       "      <td>1.4</td>\n",
       "      <td>0.2</td>\n",
       "      <td>setosa</td>\n",
       "    </tr>\n",
       "  </tbody>\n",
       "</table>\n",
       "</div>"
      ],
      "text/plain": [
       "   sepal_length  sepal_width  petal_length  petal_width species\n",
       "0           5.1          3.5           1.4          0.2  setosa\n",
       "1           4.9          3.0           1.4          0.2  setosa\n",
       "2           4.7          3.2           1.3          0.2  setosa\n",
       "3           4.6          3.1           1.5          0.2  setosa\n",
       "4           5.0          3.6           1.4          0.2  setosa"
      ]
     },
     "execution_count": 37,
     "metadata": {},
     "output_type": "execute_result"
    }
   ],
   "source": [
    "df_iris.head()"
   ]
  },
  {
   "cell_type": "code",
   "execution_count": 38,
   "id": "889c1762",
   "metadata": {},
   "outputs": [
    {
     "data": {
      "text/plain": [
       "<AxesSubplot:>"
      ]
     },
     "execution_count": 38,
     "metadata": {},
     "output_type": "execute_result"
    },
    {
     "data": {
      "image/png": "[encoded data removed]",
      "text/plain": [
       "<Figure size 640x480 with 1 Axes>"
      ]
     },
     "metadata": {},
     "output_type": "display_data"
    }
   ],
   "source": [
    "df_iris.petal_length.plot() # Plot just the petal length"
   ]
  },
  {
   "cell_type": "code",
   "execution_count": 39,
   "id": "367f36f5",
   "metadata": {},
   "outputs": [
    {
     "data": {
      "text/plain": [
       "<AxesSubplot:>"
      ]
     },
     "execution_count": 39,
     "metadata": {},
     "output_type": "execute_result"
    },
    {
     "data": {
      "image/png": "[encoded data removed]",
      "text/plain": [
       "<Figure size 640x480 with 1 Axes>"
      ]
     },
     "metadata": {},
     "output_type": "display_data"
    }
   ],
   "source": [
    "df_iris.plot() # Plot all graphs available"
   ]
  },
  {
   "cell_type": "markdown",
   "id": "93263f4d",
   "metadata": {},
   "source": [
    "None of it was particularly challenging or informative and doesn't really touch on anything complicated like interacting with databases or more than very simple analysis."
   ]
  },
  {
   "cell_type": "code",
   "execution_count": null,
   "id": "d34cbb68",
   "metadata": {},
   "outputs": [],
   "source": []
  }
 ],
 "metadata": {
  "kernelspec": {
   "display_name": "Python [conda env:root] *",
   "language": "python",
   "name": "conda-root-py"
  },
  "language_info": {
   "codemirror_mode": {
    "name": "ipython",
    "version": 3
   },
   "file_extension": ".py",
   "mimetype": "text/x-python",
   "name": "python",
   "nbconvert_exporter": "python",
   "pygments_lexer": "ipython3",
   "version": "3.9.13"
  }
 },
 "nbformat": 4,
 "nbformat_minor": 5
}
