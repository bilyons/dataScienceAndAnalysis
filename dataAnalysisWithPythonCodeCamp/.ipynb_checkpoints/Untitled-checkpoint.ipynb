{
 "cells": [
  {
   "cell_type": "markdown",
   "id": "5def0cb8",
   "metadata": {},
   "source": [
    "# Handling Missing Data with Pandas"
   ]
  },
  {
   "cell_type": "markdown",
   "id": "23a86273",
   "metadata": {},
   "source": [
    "This section from the code camp level covers conceptual theory and cleaning of data in python with numpy and pandas. Pandas specifically borrows all of the capabilities from numpy selection, and adds a number of other methods for handling those items."
   ]
  },
  {
   "cell_type": "markdown",
   "id": "4f10598f",
   "metadata": {},
   "source": [
    "We can very rapidly identify the missing data; however, there are other issues that can occur within a specific domain, for example, age might have an entry of 200, we know this is invalid inherently within that domain, but in another domain you may not know all this information.\n",
    "\n",
    "As such, it is important that when you are working on an analysis project that you gain some understanding of the domain, this could be very much something like knowledge engineering in an expert system."
   ]
  },
  {
   "cell_type": "markdown",
   "id": "0cce07bd",
   "metadata": {},
   "source": [
    "## Hands on"
   ]
  },
  {
   "cell_type": "code",
   "execution_count": 2,
   "id": "97eb7b8e",
   "metadata": {},
   "outputs": [],
   "source": [
    "import numpy as np\n",
    "import pandas as pd"
   ]
  },
  {
   "cell_type": "markdown",
   "id": "ba4a29fd",
   "metadata": {},
   "source": [
    "## Pandas utility functions"
   ]
  },
  {
   "cell_type": "markdown",
   "id": "9c845296",
   "metadata": {},
   "source": [
    "These are all similar to numpy for identifying null values."
   ]
  },
  {
   "cell_type": "code",
   "execution_count": 7,
   "id": "46808218",
   "metadata": {},
   "outputs": [
    {
     "data": {
      "text/plain": [
       "True"
      ]
     },
     "execution_count": 7,
     "metadata": {},
     "output_type": "execute_result"
    }
   ],
   "source": [
    "pd.isnull(np.nan)"
   ]
  },
  {
   "cell_type": "code",
   "execution_count": 8,
   "id": "a94bc44e",
   "metadata": {},
   "outputs": [
    {
     "data": {
      "text/plain": [
       "True"
      ]
     },
     "execution_count": 8,
     "metadata": {},
     "output_type": "execute_result"
    }
   ],
   "source": [
    "pd.isnull(None)"
   ]
  },
  {
   "cell_type": "code",
   "execution_count": 9,
   "id": "672d6fa4",
   "metadata": {},
   "outputs": [
    {
     "data": {
      "text/plain": [
       "True"
      ]
     },
     "execution_count": 9,
     "metadata": {},
     "output_type": "execute_result"
    }
   ],
   "source": [
    "pd.isna(np.nan)"
   ]
  },
  {
   "cell_type": "code",
   "execution_count": 10,
   "id": "1dd13036",
   "metadata": {},
   "outputs": [
    {
     "data": {
      "text/plain": [
       "True"
      ]
     },
     "execution_count": 10,
     "metadata": {},
     "output_type": "execute_result"
    }
   ],
   "source": [
    "pd.isna(None)"
   ]
  },
  {
   "cell_type": "markdown",
   "id": "408b564a",
   "metadata": {},
   "source": [
    "Similarly for ``pd.notnull(N)`` for identifying non-null values."
   ]
  },
  {
   "cell_type": "markdown",
   "id": "1812933e",
   "metadata": {},
   "source": [
    "These work on whole series, and thus dataframes"
   ]
  },
  {
   "cell_type": "code",
   "execution_count": 13,
   "id": "0079c2da",
   "metadata": {},
   "outputs": [
    {
     "data": {
      "text/html": [
       "<div>\n",
       "<style scoped>\n",
       "    .dataframe tbody tr th:only-of-type {\n",
       "        vertical-align: middle;\n",
       "    }\n",
       "\n",
       "    .dataframe tbody tr th {\n",
       "        vertical-align: top;\n",
       "    }\n",
       "\n",
       "    .dataframe thead th {\n",
       "        text-align: right;\n",
       "    }\n",
       "</style>\n",
       "<table border=\"1\" class=\"dataframe\">\n",
       "  <thead>\n",
       "    <tr style=\"text-align: right;\">\n",
       "      <th></th>\n",
       "      <th>Column A</th>\n",
       "      <th>Column B</th>\n",
       "    </tr>\n",
       "  </thead>\n",
       "  <tbody>\n",
       "    <tr>\n",
       "      <th>0</th>\n",
       "      <td>False</td>\n",
       "      <td>True</td>\n",
       "    </tr>\n",
       "    <tr>\n",
       "      <th>1</th>\n",
       "      <td>True</td>\n",
       "      <td>False</td>\n",
       "    </tr>\n",
       "    <tr>\n",
       "      <th>2</th>\n",
       "      <td>False</td>\n",
       "      <td>False</td>\n",
       "    </tr>\n",
       "  </tbody>\n",
       "</table>\n",
       "</div>"
      ],
      "text/plain": [
       "   Column A  Column B\n",
       "0     False      True\n",
       "1      True     False\n",
       "2     False     False"
      ]
     },
     "execution_count": 13,
     "metadata": {},
     "output_type": "execute_result"
    }
   ],
   "source": [
    "pd.isnull(pd.DataFrame({\n",
    "        \"Column A\" : [13, np.nan, 7],\n",
    "        \"Column B\" : [np.nan, 100, 50]\n",
    "}))"
   ]
  },
  {
   "cell_type": "markdown",
   "id": "87d4db1f",
   "metadata": {},
   "source": [
    "## Filtering null values"
   ]
  },
  {
   "cell_type": "code",
   "execution_count": 14,
   "id": "f4d01155",
   "metadata": {},
   "outputs": [],
   "source": [
    "s = pd.Series([1,2,3,np.nan, np.nan, 4])"
   ]
  },
  {
   "cell_type": "code",
   "execution_count": 15,
   "id": "ef94c3b2",
   "metadata": {},
   "outputs": [
    {
     "data": {
      "text/plain": [
       "0     True\n",
       "1     True\n",
       "2     True\n",
       "3    False\n",
       "4    False\n",
       "5     True\n",
       "dtype: bool"
      ]
     },
     "execution_count": 15,
     "metadata": {},
     "output_type": "execute_result"
    }
   ],
   "source": [
    "pd.notnull(s)"
   ]
  },
  {
   "cell_type": "code",
   "execution_count": 17,
   "id": "ecf338c5",
   "metadata": {},
   "outputs": [
    {
     "data": {
      "text/plain": [
       "4"
      ]
     },
     "execution_count": 17,
     "metadata": {},
     "output_type": "execute_result"
    }
   ],
   "source": [
    "pd.notnull(s).sum() # Count not null"
   ]
  },
  {
   "cell_type": "code",
   "execution_count": 18,
   "id": "767457aa",
   "metadata": {},
   "outputs": [
    {
     "data": {
      "text/plain": [
       "2"
      ]
     },
     "execution_count": 18,
     "metadata": {},
     "output_type": "execute_result"
    }
   ],
   "source": [
    "pd.isnull(s).sum() # Count null"
   ]
  },
  {
   "cell_type": "markdown",
   "id": "d2c6e676",
   "metadata": {},
   "source": [
    "We can opt to drop those with null values"
   ]
  },
  {
   "cell_type": "code",
   "execution_count": 19,
   "id": "2a1cc4e4",
   "metadata": {},
   "outputs": [
    {
     "data": {
      "text/plain": [
       "0    1.0\n",
       "1    2.0\n",
       "2    3.0\n",
       "5    4.0\n",
       "dtype: float64"
      ]
     },
     "execution_count": 19,
     "metadata": {},
     "output_type": "execute_result"
    }
   ],
   "source": [
    "s.dropna()"
   ]
  },
  {
   "cell_type": "markdown",
   "id": "4b135ccb",
   "metadata": {},
   "source": [
    "Te"
   ]
  }
 ],
 "metadata": {
  "kernelspec": {
   "display_name": "Python [conda env:root] *",
   "language": "python",
   "name": "conda-root-py"
  },
  "language_info": {
   "codemirror_mode": {
    "name": "ipython",
    "version": 3
   },
   "file_extension": ".py",
   "mimetype": "text/x-python",
   "name": "python",
   "nbconvert_exporter": "python",
   "pygments_lexer": "ipython3",
   "version": "3.9.13"
  }
 },
 "nbformat": 4,
 "nbformat_minor": 5
}
